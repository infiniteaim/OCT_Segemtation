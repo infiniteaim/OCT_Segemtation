{
 "cells": [
  {
   "cell_type": "code",
   "execution_count": null,
   "metadata": {
    "collapsed": true,
    "pycharm": {
     "is_executing": true
    }
   },
   "outputs": [],
   "source": [
    "from U_net import UNet\n",
    "import seaborn as sns\n",
    "import pandas as pd\n",
    "import matplotlib.pyplot as plt\n",
    "import math\n",
    "import random\n",
    "from tqdm import tqdm as tqdm\n",
    "import os\n",
    "import scipy\n",
    "import numpy as np\n",
    "sns.set_style('darkgrid')\n",
    "import torch\n",
    "import torchvision\n",
    "from torchvision import transforms\n",
    "from  OCTDataset import OCTDataset\n",
    "import torch.optim as optim\n",
    "import torch.nn as nn\n",
    "from torch.autograd import Variable\n",
    "from tqdm import trange\n",
    "from time import sleep\n",
    "import torch.nn.functional as F\n",
    "import sys\n",
    "import cv2\n",
    "use_gpu = torch.cuda.is_available()\n",
    "width = 284\n",
    "height = 284\n",
    "width_out = 284\n",
    "height_out = 284\n",
    "from skimage.transform import resize"
   ]
  },
  {
   "cell_type": "code",
   "execution_count": 38,
   "outputs": [],
   "source": [
    "input_path = os.path.join('2015_BOE_Chiu')\n",
    "subject_path = [os.path.join(input_path, 'Subject_0{}.mat'.format(i)) for i in range(1, 10)] + [os.path.join(input_path, 'Subject_10.mat')]\n",
    "data_indexes = [5, 10, 15, 20, 25, 30, 35, 40, 45, 50]"
   ],
   "metadata": {
    "collapsed": false
   }
  },
  {
   "cell_type": "code",
   "execution_count": 39,
   "outputs": [
    {
     "name": "stderr",
     "output_type": "stream",
     "text": [
      "D:\\Anaconda3\\envs\\ImageSegmentation\\lib\\site-packages\\ipykernel_launcher.py:7: DeprecationWarning: `np.float` is a deprecated alias for the builtin `float`. To silence this warning, use `float` by itself. Doing this will not modify any behavior and is safe. If you specifically wanted the numpy scalar type, use `np.float64` here.\n",
      "Deprecated in NumPy 1.20; for more details and guidance: https://numpy.org/devdocs/release/1.20.0-notes.html#deprecations\n",
      "  import sys\n"
     ]
    }
   ],
   "source": [
    "def threhold(x):\n",
    "    if x < 0.3:\n",
    "        return 0\n",
    "    else:\n",
    "        return 1\n",
    "\n",
    "threhold = np.vectorize(threhold, otypes=[np.float])"
   ],
   "metadata": {
    "collapsed": false
   }
  },
  {
   "cell_type": "code",
   "execution_count": 40,
   "outputs": [
    {
     "name": "stderr",
     "output_type": "stream",
     "text": [
      " 10%|█         | 1/10 [00:05<00:46,  5.15s/it]\n"
     ]
    },
    {
     "ename": "KeyboardInterrupt",
     "evalue": "",
     "output_type": "error",
     "traceback": [
      "\u001B[1;31m---------------------------------------------------------------------------\u001B[0m",
      "\u001B[1;31mKeyboardInterrupt\u001B[0m                         Traceback (most recent call last)",
      "\u001B[1;32m~\\AppData\\Local\\Temp\\ipykernel_51444\\1561721130.py\u001B[0m in \u001B[0;36m<module>\u001B[1;34m\u001B[0m\n\u001B[0;32m      2\u001B[0m \u001B[0my\u001B[0m \u001B[1;33m=\u001B[0m \u001B[1;33m[\u001B[0m\u001B[1;33m]\u001B[0m\u001B[1;33m\u001B[0m\u001B[1;33m\u001B[0m\u001B[0m\n\u001B[0;32m      3\u001B[0m \u001B[1;32mfor\u001B[0m \u001B[0mpath\u001B[0m \u001B[1;32min\u001B[0m \u001B[0mtqdm\u001B[0m\u001B[1;33m(\u001B[0m\u001B[0msubject_path\u001B[0m\u001B[1;33m)\u001B[0m\u001B[1;33m:\u001B[0m\u001B[1;33m\u001B[0m\u001B[1;33m\u001B[0m\u001B[0m\n\u001B[1;32m----> 4\u001B[1;33m     \u001B[0mmat\u001B[0m \u001B[1;33m=\u001B[0m \u001B[0mscipy\u001B[0m\u001B[1;33m.\u001B[0m\u001B[0mio\u001B[0m\u001B[1;33m.\u001B[0m\u001B[0mloadmat\u001B[0m\u001B[1;33m(\u001B[0m\u001B[0mpath\u001B[0m\u001B[1;33m)\u001B[0m\u001B[1;33m\u001B[0m\u001B[1;33m\u001B[0m\u001B[0m\n\u001B[0m\u001B[0;32m      5\u001B[0m     \u001B[0mimages\u001B[0m \u001B[1;33m=\u001B[0m \u001B[0mmat\u001B[0m\u001B[1;33m[\u001B[0m\u001B[1;34m'images'\u001B[0m\u001B[1;33m]\u001B[0m\u001B[1;33m\u001B[0m\u001B[1;33m\u001B[0m\u001B[0m\n\u001B[0;32m      6\u001B[0m     \u001B[0mlabel\u001B[0m \u001B[1;33m=\u001B[0m \u001B[0mmat\u001B[0m\u001B[1;33m[\u001B[0m\u001B[1;34m'manualFluid1'\u001B[0m\u001B[1;33m]\u001B[0m\u001B[1;33m\u001B[0m\u001B[1;33m\u001B[0m\u001B[0m\n",
      "\u001B[1;32mD:\\Anaconda3\\envs\\ImageSegmentation\\lib\\site-packages\\scipy\\io\\matlab\\mio.py\u001B[0m in \u001B[0;36mloadmat\u001B[1;34m(file_name, mdict, appendmat, **kwargs)\u001B[0m\n\u001B[0;32m    224\u001B[0m     \u001B[1;32mwith\u001B[0m \u001B[0m_open_file_context\u001B[0m\u001B[1;33m(\u001B[0m\u001B[0mfile_name\u001B[0m\u001B[1;33m,\u001B[0m \u001B[0mappendmat\u001B[0m\u001B[1;33m)\u001B[0m \u001B[1;32mas\u001B[0m \u001B[0mf\u001B[0m\u001B[1;33m:\u001B[0m\u001B[1;33m\u001B[0m\u001B[1;33m\u001B[0m\u001B[0m\n\u001B[0;32m    225\u001B[0m         \u001B[0mMR\u001B[0m\u001B[1;33m,\u001B[0m \u001B[0m_\u001B[0m \u001B[1;33m=\u001B[0m \u001B[0mmat_reader_factory\u001B[0m\u001B[1;33m(\u001B[0m\u001B[0mf\u001B[0m\u001B[1;33m,\u001B[0m \u001B[1;33m**\u001B[0m\u001B[0mkwargs\u001B[0m\u001B[1;33m)\u001B[0m\u001B[1;33m\u001B[0m\u001B[1;33m\u001B[0m\u001B[0m\n\u001B[1;32m--> 226\u001B[1;33m         \u001B[0mmatfile_dict\u001B[0m \u001B[1;33m=\u001B[0m \u001B[0mMR\u001B[0m\u001B[1;33m.\u001B[0m\u001B[0mget_variables\u001B[0m\u001B[1;33m(\u001B[0m\u001B[0mvariable_names\u001B[0m\u001B[1;33m)\u001B[0m\u001B[1;33m\u001B[0m\u001B[1;33m\u001B[0m\u001B[0m\n\u001B[0m\u001B[0;32m    227\u001B[0m \u001B[1;33m\u001B[0m\u001B[0m\n\u001B[0;32m    228\u001B[0m     \u001B[1;32mif\u001B[0m \u001B[0mmdict\u001B[0m \u001B[1;32mis\u001B[0m \u001B[1;32mnot\u001B[0m \u001B[1;32mNone\u001B[0m\u001B[1;33m:\u001B[0m\u001B[1;33m\u001B[0m\u001B[1;33m\u001B[0m\u001B[0m\n",
      "\u001B[1;32mD:\\Anaconda3\\envs\\ImageSegmentation\\lib\\site-packages\\scipy\\io\\matlab\\mio5.py\u001B[0m in \u001B[0;36mget_variables\u001B[1;34m(self, variable_names)\u001B[0m\n\u001B[0;32m    330\u001B[0m                 \u001B[1;32mcontinue\u001B[0m\u001B[1;33m\u001B[0m\u001B[1;33m\u001B[0m\u001B[0m\n\u001B[0;32m    331\u001B[0m             \u001B[1;32mtry\u001B[0m\u001B[1;33m:\u001B[0m\u001B[1;33m\u001B[0m\u001B[1;33m\u001B[0m\u001B[0m\n\u001B[1;32m--> 332\u001B[1;33m                 \u001B[0mres\u001B[0m \u001B[1;33m=\u001B[0m \u001B[0mself\u001B[0m\u001B[1;33m.\u001B[0m\u001B[0mread_var_array\u001B[0m\u001B[1;33m(\u001B[0m\u001B[0mhdr\u001B[0m\u001B[1;33m,\u001B[0m \u001B[0mprocess\u001B[0m\u001B[1;33m)\u001B[0m\u001B[1;33m\u001B[0m\u001B[1;33m\u001B[0m\u001B[0m\n\u001B[0m\u001B[0;32m    333\u001B[0m             \u001B[1;32mexcept\u001B[0m \u001B[0mMatReadError\u001B[0m \u001B[1;32mas\u001B[0m \u001B[0merr\u001B[0m\u001B[1;33m:\u001B[0m\u001B[1;33m\u001B[0m\u001B[1;33m\u001B[0m\u001B[0m\n\u001B[0;32m    334\u001B[0m                 warnings.warn(\n",
      "\u001B[1;32mD:\\Anaconda3\\envs\\ImageSegmentation\\lib\\site-packages\\scipy\\io\\matlab\\mio5.py\u001B[0m in \u001B[0;36mread_var_array\u001B[1;34m(self, header, process)\u001B[0m\n\u001B[0;32m    290\u001B[0m            \u001B[0;31m`\u001B[0m\u001B[0mprocess\u001B[0m\u001B[0;31m`\u001B[0m\u001B[1;33m.\u001B[0m\u001B[1;33m\u001B[0m\u001B[1;33m\u001B[0m\u001B[0m\n\u001B[0;32m    291\u001B[0m         '''\n\u001B[1;32m--> 292\u001B[1;33m         \u001B[1;32mreturn\u001B[0m \u001B[0mself\u001B[0m\u001B[1;33m.\u001B[0m\u001B[0m_matrix_reader\u001B[0m\u001B[1;33m.\u001B[0m\u001B[0marray_from_header\u001B[0m\u001B[1;33m(\u001B[0m\u001B[0mheader\u001B[0m\u001B[1;33m,\u001B[0m \u001B[0mprocess\u001B[0m\u001B[1;33m)\u001B[0m\u001B[1;33m\u001B[0m\u001B[1;33m\u001B[0m\u001B[0m\n\u001B[0m\u001B[0;32m    293\u001B[0m \u001B[1;33m\u001B[0m\u001B[0m\n\u001B[0;32m    294\u001B[0m     \u001B[1;32mdef\u001B[0m \u001B[0mget_variables\u001B[0m\u001B[1;33m(\u001B[0m\u001B[0mself\u001B[0m\u001B[1;33m,\u001B[0m \u001B[0mvariable_names\u001B[0m\u001B[1;33m=\u001B[0m\u001B[1;32mNone\u001B[0m\u001B[1;33m)\u001B[0m\u001B[1;33m:\u001B[0m\u001B[1;33m\u001B[0m\u001B[1;33m\u001B[0m\u001B[0m\n",
      "\u001B[1;31mKeyboardInterrupt\u001B[0m: "
     ]
    }
   ],
   "source": [
    "x = []\n",
    "y = []\n",
    "for path in tqdm(subject_path):\n",
    "    mat = scipy.io.loadmat(path)\n",
    "    images = mat['images']\n",
    "    label = mat['manualFluid1']\n",
    "    images = np.transpose(images, (2, 0, 1))\n",
    "    label = np.transpose(label, (2, 0, 1))\n",
    "    label = threhold(label)\n",
    "    images = resize(images, (images.shape[0], width, height))\n",
    "    label = resize(label, (label.shape[0], width_out, height_out))\n",
    "    for idx in data_indexes:\n",
    "        x += [np.expand_dims(images[idx], 0)]\n",
    "        y += [np.expand_dims(label[idx], 0)]\n",
    "\n",
    "x = np.array(x)\n",
    "y = np.array(y)"
   ],
   "metadata": {
    "collapsed": false
   }
  },
  {
   "cell_type": "code",
   "execution_count": null,
   "outputs": [],
   "source": [
    "x.shape, y.shape"
   ],
   "metadata": {
    "collapsed": false
   }
  },
  {
   "cell_type": "code",
   "execution_count": null,
   "outputs": [],
   "source": [
    "x_train = x[:90]\n",
    "x_val = x[90:]\n",
    "y_train = y[:90]\n",
    "y_val = y[90:]"
   ],
   "metadata": {
    "collapsed": false
   }
  },
  {
   "cell_type": "code",
   "execution_count": null,
   "outputs": [],
   "source": [
    "x_train.shape, y_train.shape, x_val.shape, y_val.shape"
   ],
   "metadata": {
    "collapsed": false
   }
  },
  {
   "cell_type": "code",
   "execution_count": null,
   "outputs": [],
   "source": [
    "plt.imshow(y_train[12,0])"
   ],
   "metadata": {
    "collapsed": false
   }
  },
  {
   "cell_type": "code",
   "execution_count": null,
   "outputs": [],
   "source": [
    "x_train = torch.from_numpy(x_train).float()\n",
    "x_val = torch.from_numpy(x_val).float()\n",
    "y_train = torch.from_numpy(y_train).long()\n",
    "y_val = torch.from_numpy(y_val).long()"
   ],
   "metadata": {
    "collapsed": false
   }
  },
  {
   "cell_type": "code",
   "execution_count": null,
   "outputs": [],
   "source": [
    "batch_size = 9\n",
    "epochs = 700\n",
    "epoch_lapse = 50\n",
    "threshold = 0.5\n",
    "sample_size = None"
   ],
   "metadata": {
    "collapsed": false
   }
  },
  {
   "cell_type": "code",
   "execution_count": null,
   "outputs": [],
   "source": [
    "learning_rate = 0.005\n",
    "unet = UNet(n_channels=1, n_classes=2)\n",
    "if use_gpu:\n",
    "    unet = unet.cuda()\n",
    "    x_train = x_train.cuda()\n",
    "    x_val = x_val.cuda()\n",
    "    y_train = y_train.cuda()\n",
    "    y_val = y_val.cuda()\n",
    "criterion = nn.CrossEntropyLoss()\n",
    "optimizer = optim.SGD(unet.parameters(), lr = 0.005, momentum=0.9)"
   ],
   "metadata": {
    "collapsed": false
   }
  },
  {
   "cell_type": "code",
   "execution_count": null,
   "outputs": [],
   "source": [
    "x_train.shape"
   ],
   "metadata": {
    "collapsed": false
   }
  },
  {
   "cell_type": "code",
   "execution_count": null,
   "outputs": [],
   "source": [
    "def get_val_loss(x_val, y_val):\n",
    "    x_val = torch.from_numpy(x_val).float()\n",
    "    y_val = torch.from_numpy(y_val).long()\n",
    "    if use_gpu:\n",
    "        x_val = x_val.cuda()\n",
    "        y_val = y_val.cuda()\n",
    "    m = x_val.shape[0]\n",
    "    outputs = unet(x_val)\n",
    "    # outputs.shape =(batch_size, n_classes, img_cols, img_rows)\n",
    "    outputs = outputs.permute(0, 2, 3, 1)\n",
    "    # outputs.shape =(batch_size, img_cols, img_rows, n_classes)\n",
    "    outputs = outputs.resize(m*width_out*height_out, 2)\n",
    "    labels = y_val.resize(m*width_out*height_out)\n",
    "    loss = F.cross_entropy(outputs, labels)\n",
    "    return loss.data"
   ],
   "metadata": {
    "collapsed": false
   }
  },
  {
   "cell_type": "code",
   "execution_count": null,
   "outputs": [],
   "source": [
    "def train_step(inputs, labels, optimizer, criterion):\n",
    "    optimizer.zero_grad()\n",
    "    # forward + backward + optimize\n",
    "    outputs = unet(inputs)\n",
    "    # outputs.shape =(batch_size, n_classes, img_cols, img_rows)\n",
    "    outputs = outputs.permute(0, 2, 3, 1)\n",
    "    # outputs.shape =(batch_size, img_cols, img_rows, n_classes)\n",
    "    outputs = outputs.resize(batch_size*width_out*height_out, 2)\n",
    "    labels = labels.resize(batch_size*width_out*height_out)\n",
    "    loss = criterion(outputs, labels)\n",
    "    loss.backward()\n",
    "    optimizer.step()\n",
    "    return loss"
   ],
   "metadata": {
    "collapsed": false
   }
  },
  {
   "cell_type": "code",
   "execution_count": null,
   "outputs": [],
   "source": [
    "epoch_iter = np.ceil(x_train.shape[0] / batch_size).astype(int)\n",
    "t = trange(epochs, leave=True)\n",
    "for _ in t:\n",
    "    total_loss = 0\n",
    "    for i in range(epoch_iter):\n",
    "        batch_train_x = x_train[i * batch_size : (i + 1) * batch_size]\n",
    "        batch_train_y = y_train[i * batch_size : (i + 1) * batch_size]\n",
    "        batch_loss = train_step(batch_train_x , batch_train_y, optimizer, criterion)\n",
    "        total_loss += batch_loss\n",
    "    if (_+1) % epoch_lapse == 0:\n",
    "        val_loss = get_val_loss(x_val, y_val)\n",
    "        print(f\"Total loss in epoch {_+1} : {total_loss / epoch_iter} and validation loss : {val_loss}\")"
   ],
   "metadata": {
    "collapsed": false
   }
  },
  {
   "cell_type": "code",
   "execution_count": null,
   "outputs": [],
   "source": [
    "torch.cuda.empty_cache()"
   ],
   "metadata": {
    "collapsed": false
   }
  }
 ],
 "metadata": {
  "kernelspec": {
   "display_name": "Python 3",
   "language": "python",
   "name": "python3"
  },
  "language_info": {
   "codemirror_mode": {
    "name": "ipython",
    "version": 2
   },
   "file_extension": ".py",
   "mimetype": "text/x-python",
   "name": "python",
   "nbconvert_exporter": "python",
   "pygments_lexer": "ipython2",
   "version": "2.7.6"
  }
 },
 "nbformat": 4,
 "nbformat_minor": 0
}
